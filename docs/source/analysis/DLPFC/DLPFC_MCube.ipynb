{
 "cells": [
  {
   "cell_type": "markdown",
   "id": "f8467122",
   "metadata": {},
   "source": [
    "# Run MCube on the DLPFC dataset"
   ]
  },
  {
   "cell_type": "code",
   "execution_count": 1,
   "id": "833e8ca8-b82a-46ca-9df1-3c7c0723dad8",
   "metadata": {
    "vscode": {
     "languageId": "r"
    }
   },
   "outputs": [
    {
     "data": {
      "text/html": [
       "'/import/home/share/zw/pql'"
      ],
      "text/latex": [
       "'/import/home/share/zw/pql'"
      ],
      "text/markdown": [
       "'/import/home/share/zw/pql'"
      ],
      "text/plain": [
       "[1] \"/import/home/share/zw/pql\""
      ]
     },
     "metadata": {},
     "output_type": "display_data"
    },
    {
     "name": "stderr",
     "output_type": "stream",
     "text": [
      "Loading required package: foreach\n",
      "\n",
      "Loading required package: iterators\n",
      "\n",
      "Loading required package: parallel\n",
      "\n",
      "Warning message:\n",
      "“package ‘ggplot2’ was built under R version 4.3.3”\n"
     ]
    }
   ],
   "source": [
    "setwd(\"/import/home/share/zw/pql\")\n",
    "getwd()\n",
    "\n",
    "set.seed(20240709)\n",
    "\n",
    "library(RhpcBLASctl)\n",
    "max_cores <- 36\n",
    "blas_set_num_threads(max_cores)\n",
    "\n",
    "library(doParallel)\n",
    "library(foreach)\n",
    "\n",
    "library(Matrix)\n",
    "\n",
    "library(ggplot2)\n",
    "library(tiff)\n",
    "library(grid)"
   ]
  },
  {
   "cell_type": "code",
   "execution_count": 2,
   "id": "82892b33",
   "metadata": {
    "vscode": {
     "languageId": "r"
    }
   },
   "outputs": [],
   "source": [
    "source(\"/import/home/share/zw/pql/code/mcube/mcubeClass.R\")\n",
    "source(\"/import/home/share/zw/pql/code/mcube/mcubeFitNull.R\")\n",
    "source(\"/import/home/share/zw/pql/code/mcube/mcubeScoreTest.R\")\n",
    "source(\"/import/home/share/zw/pql/code/mcube/mcubeUtils.R\")\n",
    "source(\"/import/home/share/zw/pql/code/mcube/mcubeKernel.R\")\n",
    "source(\"/import/home/share/zw/pql/code/mcube/mcubePlot.R\")\n",
    "source(\"/import/home/share/zw/pql/code/mcube/mcubeHelpers.R\")"
   ]
  },
  {
   "cell_type": "code",
   "execution_count": 3,
   "id": "dfafd139",
   "metadata": {
    "vscode": {
     "languageId": "r"
    }
   },
   "outputs": [],
   "source": [
    "RAW_DATA_PATH <- \"/import/home/share/zw/data/DLPFC\"\n",
    "DATA_PATH <- \"/import/home/share/zw/pql/data/DLPFC\"\n",
    "RESULT_PATH <- \"/import/home/share/zw/pql/results/DLPFC\"\n",
    "\n",
    "if (!dir.exists(file.path(RESULT_PATH))) {\n",
    "    dir.create(file.path(RESULT_PATH), recursive = TRUE)\n",
    "}"
   ]
  },
  {
   "cell_type": "code",
   "execution_count": null,
   "id": "4cacb6ff",
   "metadata": {
    "vscode": {
     "languageId": "r"
    }
   },
   "outputs": [
    {
     "data": {
      "text/html": [
       "<style>\n",
       ".list-inline {list-style: none; margin:0; padding: 0}\n",
       ".list-inline>li {display: inline-block}\n",
       ".list-inline>li:not(:last-child)::after {content: \"\\00b7\"; padding: 0 .5ex}\n",
       "</style>\n",
       "<ol class=list-inline><li>18</li><li>4558</li></ol>\n"
      ],
      "text/latex": [
       "\\begin{enumerate*}\n",
       "\\item 18\n",
       "\\item 4558\n",
       "\\end{enumerate*}\n"
      ],
      "text/markdown": [
       "1. 18\n",
       "2. 4558\n",
       "\n",
       "\n"
      ],
      "text/plain": [
       "[1]   18 4558"
      ]
     },
     "metadata": {},
     "output_type": "display_data"
    },
    {
     "data": {
      "text/html": [
       "<style>\n",
       ".list-inline {list-style: none; margin:0; padding: 0}\n",
       ".list-inline>li {display: inline-block}\n",
       ".list-inline>li:not(:last-child)::after {content: \"\\00b7\"; padding: 0 .5ex}\n",
       "</style>\n",
       "<ol class=list-inline><li>14243</li><li>18</li></ol>\n"
      ],
      "text/latex": [
       "\\begin{enumerate*}\n",
       "\\item 14243\n",
       "\\item 18\n",
       "\\end{enumerate*}\n"
      ],
      "text/markdown": [
       "1. 14243\n",
       "2. 18\n",
       "\n",
       "\n"
      ],
      "text/plain": [
       "[1] 14243    18"
      ]
     },
     "metadata": {},
     "output_type": "display_data"
    },
    {
     "name": "stderr",
     "output_type": "stream",
     "text": [
      "\u001b[1m\u001b[22mNew names:\n",
      "\u001b[36m•\u001b[39m `` -> `...1`\n"
     ]
    }
   ],
   "source": [
    "n_slices <- 4\n",
    "slice_idx_seq <- c(151673, 151674, 151675, 151676)\n",
    "\n",
    "reference_ST <- data.matrix(\n",
    "    read.csv(file.path(DATA_PATH, \"reference_ST.csv\"),\n",
    "        header = TRUE, row.names = 1, check.names = FALSE\n",
    "    )\n",
    ")\n",
    "dim(reference_ST)\n",
    "num_celltypes <- nrow(reference_ST)\n",
    "\n",
    "proportion_ST <- matrix(, nrow = 0, ncol = num_celltypes)\n",
    "sample_id <- vector(\"character\")\n",
    "for(i in 1:n_slices){\n",
    "    proportion_i <- as.matrix(read.csv(\n",
    "        file.path(\n",
    "            DATA_PATH,\n",
    "            paste0(\"prop_slice\", i - 1, \".csv\")\n",
    "        ),\n",
    "        header = TRUE, row.names = 1, check.names = FALSE\n",
    "    ))\n",
    "    proportion_ST <- rbind(proportion_ST, proportion_i)\n",
    "    sample_id <- c(sample_id, rep(paste0(\"slice_\", slice_idx_seq[i]), nrow(proportion_i)))\n",
    "}\n",
    "dim(proportion_ST)\n",
    "num_spots <- nrow(proportion_ST)\n",
    "spots <- rownames(proportion_ST)\n",
    "names(sample_id) <- spots\n",
    "\n",
    "\n",
    "counts <- as.data.frame(readr::read_csv(\n",
    "    file.path(DATA_PATH, \"counts.csv\")\n",
    "))\n",
    "rownames(counts) <- counts[, 1]\n",
    "counts[, 1] <- NULL\n",
    "counts <- counts[spots, ]\n",
    "counts <- data.matrix(counts)\n",
    "dim(counts)\n",
    "\n",
    "coordinates <- as.matrix(read.csv(\n",
    "    file.path(DATA_PATH, \"3D_coordinates.csv\"),\n",
    "    header = TRUE, row.names = 1, check.names = FALSE\n",
    "))\n",
    "coordinates <- coordinates[spots, ]\n",
    "dim(coordinates)\n",
    "\n",
    "spot_effects_ST <- data.matrix(read.csv(\n",
    "    file.path(DATA_PATH, \"spot_effects_ST.csv\"),\n",
    "    header = TRUE, row.names = 1, check.names = FALSE\n",
    "))[spots, 1]\n",
    "\n",
    "platform_effects_ST <- data.matrix(read.csv(\n",
    "    file.path(DATA_PATH, \"platform_effects_ST.csv\"),\n",
    "    header = TRUE, row.names = 1, check.names = FALSE\n",
    "))\n",
    "rownames(platform_effects_ST) <- paste0(\"slice_\", slice_idx_seq)\n",
    "\n",
    "library_size_ST <- data.matrix(read.csv(\n",
    "    file.path(DATA_PATH, \"library_size_ST.csv\"),\n",
    "    header = TRUE, row.names = 1, check.names = FALSE\n",
    "))[spots, 1]"
   ]
  },
  {
   "cell_type": "markdown",
   "id": "fb76138a",
   "metadata": {},
   "source": [
    "# Applying MMM to each ST slice seperately"
   ]
  },
  {
   "cell_type": "code",
   "execution_count": null,
   "id": "86d6d959",
   "metadata": {
    "vscode": {
     "languageId": "r"
    }
   },
   "outputs": [],
   "source": [
    "for (slice_idx in slice_idx_seq) {\n",
    "    spots_used <- which(sample_id == paste0(\"slice_\", slice_idx))\n",
    "    mcube_object <- createMCUBE(\n",
    "        counts = counts[spots_used, ],\n",
    "        coordinates = coordinates[spots_used, c(\"x\", \"y\")],\n",
    "        proportion = proportion_ST[spots_used, ],\n",
    "        library_size = library_size_ST[spots_used],\n",
    "        covariates = NULL, sample_id = sample_id[spots_used],\n",
    "        reference = reference_ST,\n",
    "        spot_effects = spot_effects_ST[spots_used],\n",
    "        platform_effects = NULL, # Estimate platform effects automatically in the single slice case\n",
    "        reference_threshold = 0.5,\n",
    "        project = paste0(\"DLPFC_\", slice_idx),\n",
    "    )\n",
    "    mcube_object <- mcubeFitNull(mcube_object, max_cores = max_cores)\n",
    "    mcube_object <- mcubeTest(mcube_object, max_cores = max_cores)\n",
    "\n",
    "    p <- mcubePlotPvalues(mcube_object@pvalues, \"combined_pvalue\", nrow = 2)\n",
    "    p <- p +\n",
    "        labs(title = NULL) +\n",
    "        theme(\n",
    "            text = element_text(size = 16),\n",
    "            plot.title = element_text(size = 20),\n",
    "            axis.title = element_text(size = 20),\n",
    "            axis.text.x = element_text(size = 16),\n",
    "            axis.text.y = element_text(size = 16)\n",
    "        )\n",
    "    ggsave(\n",
    "        filename = file.path(\n",
    "            RESULT_PATH,\n",
    "            paste0(\"pvalue_qqplot_\", slice_idx, \".png\")\n",
    "        ),\n",
    "        plot = p, width = 12, height = 7\n",
    "    )\n",
    "\n",
    "    saveRDS(\n",
    "        mcube_object,\n",
    "        file = file.path(\n",
    "            RESULT_PATH,\n",
    "            paste0(\"mcube_\", slice_idx, \".rds\")\n",
    "        )\n",
    "    )\n",
    "    # mcube_object <- readRDS(\n",
    "    #     file = file.path(\n",
    "    #         RESULT_PATH,\n",
    "    #         paste0(\"mcube_\", slice_idx, \".rds\")\n",
    "    #     )\n",
    "    # )\n",
    "\n",
    "    assign(\n",
    "        paste0(\"mcube_object_\", slice_idx),\n",
    "        mcube_object\n",
    "    )\n",
    "    rm(mcube_object)\n",
    "}"
   ]
  },
  {
   "cell_type": "code",
   "execution_count": 141,
   "id": "9e730e57",
   "metadata": {
    "vscode": {
     "languageId": "r"
    }
   },
   "outputs": [],
   "source": [
    "for (slice_idx in slice_idx_seq) {\n",
    "    # spots_used <- which(sample_id == paste0(\"slice\", slice_idx))\n",
    "    # mcube_object <- createMCUBE(\n",
    "    #     counts = counts[spots_used, ],\n",
    "    #     coordinates = coordinates[spots_used, c(\"x\", \"y\")],\n",
    "    #     proportion = proportion_ST[spots_used, ],\n",
    "    #     library_size = library_size_ST[spots_used],\n",
    "    #     covariates = NULL, sample_id = sample_id[spots_used],\n",
    "    #     reference = reference_ST,\n",
    "    #     spot_effects = spot_effects_ST[spots_used],\n",
    "    #     platform_effects = NULL,\n",
    "    #     reference_threshold = 0.3,\n",
    "    #     project = paste0(\"DLPFC_\", slice_idx),\n",
    "    # )\n",
    "    # mcube_object <- mcubeFitNull(mcube_object, max_cores = max_cores)\n",
    "    # mcube_object <- mcubeTest(mcube_object, max_cores = max_cores)\n",
    "\n",
    "    # # p <- mcubePlotPvalues(mcube_object@pvalues, \"combined_pvalue\", nrow = 2)\n",
    "    # # p <- p +\n",
    "    # #     labs(title = NULL) +\n",
    "    # #     theme(\n",
    "    # #         text = element_text(size = 16),\n",
    "    # #         plot.title = element_text(size = 20),\n",
    "    # #         axis.title = element_text(size = 20),\n",
    "    # #         axis.text.x = element_text(size = 16),\n",
    "    # #         axis.text.y = element_text(size = 16)\n",
    "    # #     )\n",
    "    # # ggsave(\n",
    "    # #     filename = file.path(\n",
    "    # #         RESULT_PATH,\n",
    "    # #         paste0(\"pvalue_qqplot_\", slice_idx, \".png\")\n",
    "    # #     ),\n",
    "    # #     plot = p, width = 12, height = 7\n",
    "    # # )\n",
    "\n",
    "    # saveRDS(\n",
    "    #     mcube_object,\n",
    "    #     file = file.path(\n",
    "    #         RESULT_PATH,\n",
    "    #         paste0(\"mcube_\", slice_idx, \".rds\")\n",
    "    #     )\n",
    "    # )\n",
    "    mcube_object <- readRDS(\n",
    "        file = file.path(\n",
    "            RESULT_PATH,\n",
    "            paste0(\"mcube_\", slice_idx, \".rds\")\n",
    "        )\n",
    "    )\n",
    "\n",
    "    assign(\n",
    "        paste0(\"mcube_object_\", slice_idx),\n",
    "        mcube_object\n",
    "    )\n",
    "    rm(mcube_object)\n",
    "}"
   ]
  },
  {
   "cell_type": "markdown",
   "id": "af947a8d",
   "metadata": {},
   "source": [
    "## Visualization of the deconvolution results of slice 1"
   ]
  },
  {
   "cell_type": "code",
   "execution_count": 15,
   "id": "4f626f3f",
   "metadata": {
    "vscode": {
     "languageId": "r"
    }
   },
   "outputs": [],
   "source": [
    "slice_idx <- slice_idx_seq[1]\n",
    "mcube_object <- get(paste0(\"mcube_object_\", slice_idx))"
   ]
  },
  {
   "cell_type": "code",
   "execution_count": null,
   "id": "02ca65df",
   "metadata": {
    "vscode": {
     "languageId": "r"
    }
   },
   "outputs": [],
   "source": [
    "# Proportion\n",
    "proportion_df <- reshape2::melt(\n",
    "    mcube_object@proportion[, mcube_object@celltype_test],\n",
    "    varnames = c(\"spot\", \"celltype\"), value.name = \"proportion\"\n",
    ")\n",
    "\n",
    "# Boxplot\n",
    "p <- ggplot(proportion_df, aes(x = celltype, y = proportion)) +\n",
    "  geom_boxplot(aes(fill = celltype), alpha = 0.5, show.legend = FALSE) +\n",
    "  theme_classic() +\n",
    "    labs(title = NULL, x = NULL, y = \"Proportion\") +\n",
    "    theme(\n",
    "      text = element_text(size = 16),\n",
    "      axis.text.x = element_text(size = 12, angle = 45, hjust = 1)\n",
    "    )\n",
    "ggsave(\n",
    "  filename = file.path(RESULT_PATH, \"proportion.pdf\"),\n",
    "  plot = p, width = 4, height = 4\n",
    ")\n",
    "p"
   ]
  },
  {
   "cell_type": "code",
   "execution_count": null,
   "id": "2c25be69",
   "metadata": {
    "vscode": {
     "languageId": "r"
    }
   },
   "outputs": [],
   "source": [
    "# spot effects\n",
    "spot_effects_df <- data.frame(\n",
    "    x = mcube_object@coordinates[, 1],\n",
    "    y = mcube_object@coordinates[, 2],\n",
    "    spot_effect = mcube_object@spot_effects\n",
    ")\n",
    "\n",
    "p <- ggplot(spot_effects_df, aes(x = x, y = y, color = spot_effect)) +\n",
    "  geom_point(size = 1) +\n",
    "  scale_color_gradient2(\n",
    "    low = \"#64AE11\", mid = \"white\", high = \"#FD3000\",\n",
    "    midpoint = median(spot_effects_df$spot_effect)\n",
    "  ) +\n",
    "  scale_y_reverse() +\n",
    "    coord_fixed(ratio = 1) +\n",
    "    labs(title = NULL, x = NULL, y = NULL) +\n",
    "    theme_classic() +\n",
    "    theme(\n",
    "      axis.text = element_blank(),\n",
    "      axis.ticks = element_blank(),\n",
    "      legend.position = \"None\"\n",
    "    )\n",
    "ggsave(\n",
    "  filename = file.path(RESULT_PATH, \"spot_effects.pdf\"),\n",
    "  plot = p, width = 4, height = 4\n",
    ")\n",
    "p"
   ]
  },
  {
   "cell_type": "code",
   "execution_count": null,
   "id": "48b0eb34",
   "metadata": {
    "vscode": {
     "languageId": "r"
    }
   },
   "outputs": [],
   "source": [
    "# Platform effects\n",
    "p <- ggplot(data = NULL, aes(x = platform_effects_ST[1, mcube_object@gene_test])) +\n",
    "  geom_histogram(bins = 20, fill = \"lightblue\", color = \"black\") +\n",
    "  xlab(\"Platform effect\") +\n",
    "  ylab(\"Count\") +\n",
    "    theme_classic() +\n",
    "    theme(\n",
    "      text = element_text(size = 16),\n",
    "      axis.text = element_text(size = 12)\n",
    "    )\n",
    "ggsave(\n",
    "  filename = file.path(RESULT_PATH, \"platform_effects.pdf\"),\n",
    "  plot = p, width = 4, height = 4\n",
    ")\n",
    "p\n",
    "# ggsave(file.path(paste0(PICTURE_PATH,'platform_effects.eps')), width = 5, height = 5, device = cairo_ps)"
   ]
  },
  {
   "cell_type": "code",
   "execution_count": 12,
   "id": "28c1010b",
   "metadata": {
    "vscode": {
     "languageId": "r"
    }
   },
   "outputs": [],
   "source": [
    "rm(mcube_object)"
   ]
  },
  {
   "cell_type": "markdown",
   "id": "844d4585",
   "metadata": {},
   "source": [
    "## Visualization of the cell type-specific SVG results"
   ]
  },
  {
   "cell_type": "code",
   "execution_count": null,
   "id": "87c292f2",
   "metadata": {
    "vscode": {
     "languageId": "r"
    }
   },
   "outputs": [],
   "source": [
    "celltype <- \"Ex_5_L5\"\n",
    "demo_genes <- c(\"COX6C\", \"CAMK2N1\", \"ENC1\", \"SYT1\")\n",
    "for(i in 1:n_slices){\n",
    "    mcube_object <- get(paste0(\"mcube_object_\", slice_idx_seq[i]))\n",
    "\n",
    "    # Since STitch3D aligns multiple ST slices, the integrated 3D coordinates cannot match the H&E image\n",
    "    # Therefore, we use the original 2D coordinates instead\n",
    "    coordinates_original <- as.matrix(read.csv(\n",
    "        file.path(DATA_PATH, paste0(\"2D_coordinates_slice\", i - 1, \".csv\")),\n",
    "        header = TRUE, row.names = 1, check.names = FALSE\n",
    "    ))\n",
    "    rownames(coordinates_original) <- paste0(rownames(coordinates_original), \"-slice\", i - 1)\n",
    "    coordinates_original <- coordinates_original[rownames(mcube_object@proportion), ]\n",
    "\n",
    "    # Load in H&E image\n",
    "    he_image <- tiff::readTIFF(\n",
    "        file.path(\n",
    "            RAW_DATA_PATH, \"spatialLIBD\", slice_idx_seq[i],\n",
    "            paste0(slice_idx_seq[i], \"_full_image.tif\")\n",
    "        )\n",
    "    )\n",
    "    he_image_0.5 <- array(0.5, dim = c(dim(he_image)[1], dim(he_image)[2], 4))\n",
    "    he_image_0.5[, , 1] <- he_image[, , 1]\n",
    "    he_image_0.5[, , 2] <- he_image[, , 2]\n",
    "    he_image_0.5[, , 3] <- he_image[, , 3]\n",
    "    # he_image_0.5[, , 4] <- 0.5 \n",
    "\n",
    "    boader <- 500\n",
    "    xlim <- c(\n",
    "        min(coordinates_original[, 1]) - boader, \n",
    "        max(coordinates_original[, 1]) + boader\n",
    "    )\n",
    "    ylim <- c(\n",
    "        min(coordinates_original[, 2]) - boader,\n",
    "        max(coordinates_original[, 2]) + boader\n",
    "    )\n",
    "\n",
    "    # Proportion of cell type\n",
    "    p <- mcubePlotPropCellType(\n",
    "        mcube_object@proportion, coordinates_original, celltype,\n",
    "        he_image = he_image_0.5[ylim[1]:ylim[2], xlim[1]:xlim[2], ], background = FALSE,\n",
    "        xlim = xlim, ylim = ylim\n",
    "    ) +\n",
    "      scale_x_continuous(limits = xlim, expand = c(0, 0)) +\n",
    "      scale_y_continuous(trans = \"reverse\", limits = rev(ylim), expand = c(0, 0)) +\n",
    "      theme_void() +\n",
    "      theme(\n",
    "          plot.title = element_blank(),\n",
    "          axis.title = element_blank(),\n",
    "          axis.text = element_blank(),\n",
    "          axis.ticks = element_blank(),\n",
    "          panel.grid = element_blank(),\n",
    "          legend.position = \"none\"\n",
    "      )\n",
    "    ggsave(\n",
    "        filename = file.path(\n",
    "            RESULT_PATH,\n",
    "            paste0(\"proportion_\", celltype, \"_slice\", slice_idx_seq[i], \".png\")\n",
    "        ),\n",
    "        plot = p, width = 4, height = 4, bg = \"white\"\n",
    "    )\n",
    "    \n",
    "    # Spatial pattern of SVGs\n",
    "    for (gene in demo_genes) {\n",
    "        mcube_object@coordinates <- coordinates_original\n",
    "        p <- mcubePlotExprCellTypeBinary(\n",
    "            mcube_object,\n",
    "            celltype = celltype, gene = gene,\n",
    "            he_image = he_image_0.5[ylim[1]:ylim[2], xlim[1]:xlim[2], ], background = FALSE,\n",
    "            xlim = xlim, ylim = ylim\n",
    "        ) +\n",
    "            scale_x_continuous(limits = xlim, expand = c(0, 0)) +\n",
    "            scale_y_continuous(trans = \"reverse\", limits = rev(ylim), expand = c(0, 0)) +\n",
    "            theme_void() +\n",
    "            theme(\n",
    "                plot.title = element_blank(),\n",
    "                axis.title = element_blank(),\n",
    "                axis.text = element_blank(),\n",
    "                axis.ticks = element_blank(),\n",
    "                panel.grid = element_blank(),\n",
    "                legend.position = \"none\"\n",
    "            )\n",
    "        ggsave(\n",
    "            filename = file.path(\n",
    "                RESULT_PATH,\n",
    "                paste0(celltype, \"_\", gene, \"_slice\", slice_idx_seq[i], \".png\")\n",
    "            ),\n",
    "            plot = p, width = 4, height = 4, bg = \"white\"\n",
    "        )\n",
    "    }\n",
    "\n",
    "    rm(mcube_object)\n",
    "}"
   ]
  },
  {
   "cell_type": "markdown",
   "id": "b02cf216",
   "metadata": {},
   "source": [
    "## Negative control using slice 1"
   ]
  },
  {
   "cell_type": "code",
   "execution_count": null,
   "id": "1792a43e",
   "metadata": {
    "vscode": {
     "languageId": "r"
    }
   },
   "outputs": [],
   "source": [
    "mcube_object <- get(paste0(\"mcube_object_\", slice_idx_seq[1]))\n",
    "\n",
    "shuffle_idx <- sample(\n",
    "    1:nrow(mcube_object@coordinates),\n",
    "    nrow(mcube_object@coordinates)\n",
    ")\n",
    "write.csv(shuffle_idx, file = file.path(DATA_PATH, \"shuffle_idx.csv\"), row.names = FALSE)\n",
    "shuffle_idx <- read.csv(file.path(DATA_PATH, \"shuffle_idx.csv\"), header = TRUE)[, 1]\n",
    "length(unique(shuffle_idx))\n",
    "\n",
    "coordinates_shuffle <- mcube_object@coordinates[shuffle_idx, ]\n",
    "rownames(coordinates_shuffle) <- rownames(mcube_object@coordinates)\n",
    "write.csv(coordinates_shuffle, file = file.path(DATA_PATH, \"coordinates_shuffle.csv\"))\n",
    "coordinates_shuffle <- data.matrix(read.csv(\n",
    "    file.path(DATA_PATH, \"coordinates_shuffle.csv\"),\n",
    "    header = TRUE, row.names = 1, check.names = FALSE\n",
    "))"
   ]
  },
  {
   "cell_type": "code",
   "execution_count": null,
   "id": "983c6b38",
   "metadata": {
    "vscode": {
     "languageId": "r"
    }
   },
   "outputs": [],
   "source": [
    "mcube_object_null <- mcube_object\n",
    "rm(mcube_object)\n",
    "mcube_object_null@coordinates <- coordinates_shuffle\n",
    "mcube_object_null <- mcubeFitNull(mcube_object_null, max_cores = max_cores)\n",
    "mcube_object_null <- mcubeTest(mcube_object_null, max_cores = max_cores)\n",
    "\n",
    "p <- mcubePlotPvalues(mcube_object_null@pvalues, \"combined_pvalue\", nrow = 2)\n",
    "ggsave(\n",
    "    filename = file.path(\n",
    "        RESULT_PATH,\n",
    "        \"pvalue_qqplot_1_null.png\"\n",
    "    ),\n",
    "    plot = p, width = 12, height = 7\n",
    ")\n",
    "\n",
    "pvalues_null <- mcube_object_null@pvalues\n",
    "rm(mcube_object_null)\n",
    "saveRDS(\n",
    "    pvalues_null,\n",
    "    file = file.path(\n",
    "        RESULT_PATH,\n",
    "        paste0(\"pvalues_\", slice_idx_seq[1], \"_null.rds\")\n",
    "    )\n",
    ")\n",
    "# pvalues_null <- readRDS(\n",
    "#     file = file.path(\n",
    "#         RESULT_PATH,\n",
    "#         \"pvalues_1_null.rds\"\n",
    "#     )\n",
    "# )"
   ]
  },
  {
   "cell_type": "code",
   "execution_count": 23,
   "id": "1dba76d8",
   "metadata": {
    "vscode": {
     "languageId": "r"
    }
   },
   "outputs": [],
   "source": [
    "rm(list = ls(pattern = \"mcube_object_\"))"
   ]
  },
  {
   "cell_type": "markdown",
   "id": "170c1b1f",
   "metadata": {},
   "source": [
    "# Applying MMM to the integrated four ST slices together"
   ]
  },
  {
   "cell_type": "code",
   "execution_count": null,
   "id": "8b9f690f",
   "metadata": {
    "vscode": {
     "languageId": "r"
    }
   },
   "outputs": [],
   "source": [
    "mcube_object_all <- createMCUBE(\n",
    "    counts = counts, coordinates = coordinates, \n",
    "    proportion = proportion_ST, library_size = library_size_ST, \n",
    "    covariates = NULL, sample_id = sample_id,\n",
    "    reference = reference_ST,\n",
    "    spot_effects = spot_effects_ST, platform_effects = platform_effects_ST,\n",
    "    project = \"DLPFC_all\"\n",
    ")\n",
    "mcube_object_all <- mcubeFitNull(mcube_object_all, max_cores = max_cores)\n",
    "mcube_object_all <- mcubeTest(mcube_object_all, max_cores = max_cores)\n",
    "\n",
    "p <- mcubePlotPvalues(mcube_object_all@pvalues, \"combined_pvalue\", nrow = 2) +\n",
    "    labs(title = NULL) +\n",
    "    theme(\n",
    "        text = element_text(size = 16),\n",
    "        plot.title = element_text(size = 20),\n",
    "        axis.title = element_text(size = 20),\n",
    "        axis.text.x = element_text(size = 16),\n",
    "        axis.text.y = element_text(size = 16)\n",
    "    )\n",
    "ggsave(\n",
    "    filename = file.path(\n",
    "        RESULT_PATH,\n",
    "        paste0(\"pvalue_qqplot_all.png\")\n",
    "    ),\n",
    "    plot = p, width = 12, height = 7\n",
    ")\n",
    "p\n",
    "\n",
    "saveRDS(\n",
    "    mcube_object_all,\n",
    "    file = file.path(\n",
    "        RESULT_PATH,\n",
    "        paste0(\"mcube_all\", \".rds\")\n",
    "    )\n",
    ")\n",
    "# mcube_object_all <- readRDS(\n",
    "#     file = file.path(\n",
    "#         RESULT_PATH,\n",
    "#         paste0(\"mcube_all\", \".rds\")\n",
    "#     )\n",
    "# )"
   ]
  },
  {
   "cell_type": "code",
   "execution_count": 5,
   "id": "c2e174cd",
   "metadata": {
    "vscode": {
     "languageId": "r"
    }
   },
   "outputs": [],
   "source": [
    "mcube_object_all <- readRDS(\n",
    "    file = file.path(\n",
    "        RESULT_PATH,\n",
    "        paste0(\"mcube_all\", \".rds\")\n",
    "    )\n",
    ")"
   ]
  },
  {
   "cell_type": "code",
   "execution_count": 6,
   "id": "af8a7aef",
   "metadata": {
    "vscode": {
     "languageId": "r"
    }
   },
   "outputs": [],
   "source": [
    "# For visualization\n",
    "mcube_object_all@coordinates[, \"x\"] = -mcube_object_all@coordinates[, \"x\"]\n",
    "mcube_object_all@coordinates[, \"z\"] = (mcube_object_all@coordinates[, \"z\"] -\n",
    "    (mcube_object_all@coordinates[, \"z\"] > 14) * 397.3) * 200\n",
    "mcube_object_all@coordinates[, \"x\"] = mcube_object_all@coordinates[, \"x\"] / 1.37\n",
    "mcube_object_all@coordinates[, \"y\"] = mcube_object_all@coordinates[, \"y\"] / 1.37\n",
    "mcube_object_all@coordinates[, \"z\"] = mcube_object_all@coordinates[, \"z\"] / 1.37"
   ]
  },
  {
   "cell_type": "code",
   "execution_count": 7,
   "id": "3aad65bb",
   "metadata": {
    "vscode": {
     "languageId": "r"
    }
   },
   "outputs": [],
   "source": [
    "# demo_genes <- c(\"COX6C\", \"TMSB10\")\n",
    "celltype <- \"Ex_5_L5\"\n",
    "demo_genes <- c(\"COX6C\", \"CAMK2N1\", \"ENC1\", \"SYT1\")\n",
    "for (gene in demo_genes) {\n",
    "    p <- mcubePlotExprCellType3D(\n",
    "        mcube_object_all, celltype, gene,\n",
    "        spot_size = 1.5, opacity_target = 0.7, opacity_background = 0.1,\n",
    "        plotly_eye = list(x = -0.9, y = 1.7, z = 1.2)\n",
    "    )\n",
    "    plotly::save_image(\n",
    "        p, file.path(RESULT_PATH, paste0(celltype, \"_\", gene, \"_3D\", \".pdf\")),\n",
    "        width = 500, height = 500, scale = 5\n",
    "    )\n",
    "}"
   ]
  },
  {
   "cell_type": "code",
   "execution_count": null,
   "id": "e186c773",
   "metadata": {
    "vscode": {
     "languageId": "r"
    }
   },
   "outputs": [],
   "source": [
    "Reduce(\n",
    "    intersect,\n",
    "    list(\n",
    "        rownames(mcube_object_1@pvalues[[celltype]])[order(mcube_object_1@pvalues[[celltype]][, 6])][1:10],\n",
    "        rownames(mcube_object_2@pvalues[[celltype]])[order(mcube_object_2@pvalues[[celltype]][, 6])][1:10],\n",
    "        rownames(mcube_object_3@pvalues[[celltype]])[order(mcube_object_3@pvalues[[celltype]][, 6])][1:10],\n",
    "        rownames(mcube_object_4@pvalues[[celltype]])[order(mcube_object_4@pvalues[[celltype]][, 6])][1:10]\n",
    "    )\n",
    ")"
   ]
  },
  {
   "cell_type": "code",
   "execution_count": null,
   "id": "555e99dc",
   "metadata": {
    "vscode": {
     "languageId": "r"
    }
   },
   "outputs": [],
   "source": [
    "mcubePlotExprCellType3D(\n",
    "        mcube_object_all, celltype, \"COX6C\",\n",
    "        spot_size = 1.5, opacity_target = 0.7, opacity_background = 0.1,\n",
    "        plotly_eye = list(x = -0.9, y = 1.7, z = 1.2)\n",
    "    )"
   ]
  },
  {
   "cell_type": "code",
   "execution_count": null,
   "id": "7a8f6294",
   "metadata": {
    "vscode": {
     "languageId": "r"
    }
   },
   "outputs": [],
   "source": []
  }
 ],
 "metadata": {
  "kernelspec": {
   "display_name": "R",
   "language": "R",
   "name": "ir"
  },
  "language_info": {
   "codemirror_mode": "r",
   "file_extension": ".r",
   "mimetype": "text/x-r-source",
   "name": "R",
   "pygments_lexer": "r",
   "version": "4.3.2"
  }
 },
 "nbformat": 4,
 "nbformat_minor": 5
}
