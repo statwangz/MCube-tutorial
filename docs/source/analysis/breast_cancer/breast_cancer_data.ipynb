{
 "cells": [
  {
   "cell_type": "code",
   "execution_count": 1,
   "id": "initial_id",
   "metadata": {
    "ExecuteTime": {
     "end_time": "2024-07-11T15:22:03.283855Z",
     "start_time": "2024-07-11T15:22:03.277279Z"
    },
    "collapsed": true
   },
   "outputs": [],
   "source": [
    "import tifffile\n",
    "import scanpy as sc\n",
    "import pandas as pd\n",
    "import anndata as ad\n",
    "import numpy as np\n",
    "import os\n",
    "\n",
    "sc_root_dir = \"/import/home/share/zw/data/breast_cancer\"\n",
    "st_root_dir = \"/import/home/share/zw/data/breast_cancer/paper_data/downstream_xenium_breast_cancer/scVI_output\"\n",
    "save_path = \"/import/home/share/zw/pql/data/breast_cancer\""
   ]
  },
  {
   "cell_type": "markdown",
   "id": "9c8aba3e",
   "metadata": {},
   "source": [
    "Since the new h5ad version, can only be run with pql environment."
   ]
  },
  {
   "cell_type": "code",
   "execution_count": 2,
   "id": "20c5fcbb9a9e3b5b",
   "metadata": {
    "ExecuteTime": {
     "end_time": "2024-07-11T15:22:03.370806Z",
     "start_time": "2024-07-11T15:22:03.287440Z"
    }
   },
   "outputs": [],
   "source": [
    "# # scRNA\n",
    "# adata_sc = sc.read_h5ad(f\"{sc_root_dir}filtered_sc.h5ad\")\n",
    "# adata_sc"
   ]
  },
  {
   "cell_type": "code",
   "execution_count": 3,
   "id": "b8bcba1356dd2e77",
   "metadata": {
    "ExecuteTime": {
     "end_time": "2024-07-11T15:22:22.825111Z",
     "start_time": "2024-07-11T15:22:03.373467Z"
    }
   },
   "outputs": [],
   "source": [
    "# PCA + UMAP\n",
    "# sc.pp.pca(adata_sc)\n",
    "# sc.pp.neighbors(adata_sc)\n",
    "# sc.tl.umap(adata_sc)\n",
    "\n",
    "# sc.pl.umap(adata_sc, color='celltype')"
   ]
  },
  {
   "cell_type": "code",
   "execution_count": 4,
   "id": "8622e6ac",
   "metadata": {},
   "outputs": [],
   "source": [
    "# counts_sc = pd.DataFrame(adata_sc.X.toarray().astype(int),index=adata_sc.obs.index,columns=adata_sc.var_names)\n",
    "# counts_sc.to_csv(os.path.join(save_path, \"rawdata\", \"sc_counts.csv\"))"
   ]
  },
  {
   "cell_type": "code",
   "execution_count": 5,
   "id": "0b60908f",
   "metadata": {},
   "outputs": [],
   "source": [
    "# adata_sc.obs.to_csv(os.path.join(save_path, \"rawdata\", \"sc_celltype.csv\"))"
   ]
  },
  {
   "cell_type": "code",
   "execution_count": 9,
   "id": "3f795666cf2e4236",
   "metadata": {
    "ExecuteTime": {
     "end_time": "2024-07-11T15:22:23.277424Z",
     "start_time": "2024-07-11T15:22:22.826940Z"
    }
   },
   "outputs": [],
   "source": [
    "# ST  adata with scanvi label and spatial coordinates of mask center\n",
    "# method = \"Cell_10X\"\n",
    "method = \"UCS_10X\"\n",
    "adata_st = sc.read_h5ad(os.path.join(st_root_dir, method, \"annotated_adata_st.h5ad\"))"
   ]
  },
  {
   "cell_type": "code",
   "execution_count": 10,
   "id": "304d88c3",
   "metadata": {},
   "outputs": [],
   "source": [
    "if not os.path.exists(os.path.join(save_path, method)):\n",
    "    os.makedirs(os.path.join(save_path, method))\n",
    "if not os.path.exists(os.path.join(save_path, \"rawdata\", method)):\n",
    "    os.makedirs(os.path.join(save_path, \"rawdata\", method))"
   ]
  },
  {
   "cell_type": "code",
   "execution_count": 11,
   "id": "a4d45d24a682c31c",
   "metadata": {
    "ExecuteTime": {
     "end_time": "2024-07-11T15:22:23.284649Z",
     "start_time": "2024-07-11T15:22:23.280170Z"
    }
   },
   "outputs": [
    {
     "data": {
      "text/plain": [
       "AnnData object with n_obs × n_vars = 165734 × 307\n",
       "    obs: 'tech', '_scvi_batch', '_scvi_labels', 'celltype_scanvi', 'C_scANVI'\n",
       "    uns: 'C_scANVI_colors', '_scvi_manager_uuid', '_scvi_uuid', 'log1p', 'tech_colors'\n",
       "    obsm: 'X_mde_scanvi', 'X_scANVI', 'X_scVI', 'X_scVI_mde', 'spatial'\n",
       "    layers: 'counts'"
      ]
     },
     "execution_count": 11,
     "metadata": {},
     "output_type": "execute_result"
    }
   ],
   "source": [
    "adata_st"
   ]
  },
  {
   "cell_type": "code",
   "execution_count": 24,
   "id": "d1046639",
   "metadata": {},
   "outputs": [
    {
     "data": {
      "text/html": [
       "<div>\n",
       "<style scoped>\n",
       "    .dataframe tbody tr th:only-of-type {\n",
       "        vertical-align: middle;\n",
       "    }\n",
       "\n",
       "    .dataframe tbody tr th {\n",
       "        vertical-align: top;\n",
       "    }\n",
       "\n",
       "    .dataframe thead th {\n",
       "        text-align: right;\n",
       "    }\n",
       "</style>\n",
       "<table border=\"1\" class=\"dataframe\">\n",
       "  <thead>\n",
       "    <tr style=\"text-align: right;\">\n",
       "      <th></th>\n",
       "      <th>tech</th>\n",
       "      <th>_scvi_batch</th>\n",
       "      <th>_scvi_labels</th>\n",
       "      <th>celltype_scanvi</th>\n",
       "      <th>C_scANVI</th>\n",
       "    </tr>\n",
       "  </thead>\n",
       "  <tbody>\n",
       "    <tr>\n",
       "      <th>1</th>\n",
       "      <td>st</td>\n",
       "      <td>1</td>\n",
       "      <td>17</td>\n",
       "      <td>Unknown</td>\n",
       "      <td>DCIS 2</td>\n",
       "    </tr>\n",
       "    <tr>\n",
       "      <th>2</th>\n",
       "      <td>st</td>\n",
       "      <td>1</td>\n",
       "      <td>17</td>\n",
       "      <td>Unknown</td>\n",
       "      <td>DCIS 2</td>\n",
       "    </tr>\n",
       "    <tr>\n",
       "      <th>3</th>\n",
       "      <td>st</td>\n",
       "      <td>1</td>\n",
       "      <td>17</td>\n",
       "      <td>Unknown</td>\n",
       "      <td>DCIS 2</td>\n",
       "    </tr>\n",
       "    <tr>\n",
       "      <th>4</th>\n",
       "      <td>st</td>\n",
       "      <td>1</td>\n",
       "      <td>17</td>\n",
       "      <td>Unknown</td>\n",
       "      <td>Invasive Tumor</td>\n",
       "    </tr>\n",
       "    <tr>\n",
       "      <th>5</th>\n",
       "      <td>st</td>\n",
       "      <td>1</td>\n",
       "      <td>17</td>\n",
       "      <td>Unknown</td>\n",
       "      <td>DCIS 2</td>\n",
       "    </tr>\n",
       "    <tr>\n",
       "      <th>...</th>\n",
       "      <td>...</td>\n",
       "      <td>...</td>\n",
       "      <td>...</td>\n",
       "      <td>...</td>\n",
       "      <td>...</td>\n",
       "    </tr>\n",
       "    <tr>\n",
       "      <th>167776</th>\n",
       "      <td>st</td>\n",
       "      <td>1</td>\n",
       "      <td>17</td>\n",
       "      <td>Unknown</td>\n",
       "      <td>DCIS 1</td>\n",
       "    </tr>\n",
       "    <tr>\n",
       "      <th>167777</th>\n",
       "      <td>st</td>\n",
       "      <td>1</td>\n",
       "      <td>17</td>\n",
       "      <td>Unknown</td>\n",
       "      <td>DCIS 1</td>\n",
       "    </tr>\n",
       "    <tr>\n",
       "      <th>167778</th>\n",
       "      <td>st</td>\n",
       "      <td>1</td>\n",
       "      <td>17</td>\n",
       "      <td>Unknown</td>\n",
       "      <td>DCIS 1</td>\n",
       "    </tr>\n",
       "    <tr>\n",
       "      <th>167779</th>\n",
       "      <td>st</td>\n",
       "      <td>1</td>\n",
       "      <td>17</td>\n",
       "      <td>Unknown</td>\n",
       "      <td>DCIS 1</td>\n",
       "    </tr>\n",
       "    <tr>\n",
       "      <th>167780</th>\n",
       "      <td>st</td>\n",
       "      <td>1</td>\n",
       "      <td>17</td>\n",
       "      <td>Unknown</td>\n",
       "      <td>DCIS 1</td>\n",
       "    </tr>\n",
       "  </tbody>\n",
       "</table>\n",
       "<p>166346 rows × 5 columns</p>\n",
       "</div>"
      ],
      "text/plain": [
       "       tech  _scvi_batch  _scvi_labels celltype_scanvi        C_scANVI\n",
       "1        st            1            17         Unknown          DCIS 2\n",
       "2        st            1            17         Unknown          DCIS 2\n",
       "3        st            1            17         Unknown          DCIS 2\n",
       "4        st            1            17         Unknown  Invasive Tumor\n",
       "5        st            1            17         Unknown          DCIS 2\n",
       "...     ...          ...           ...             ...             ...\n",
       "167776   st            1            17         Unknown          DCIS 1\n",
       "167777   st            1            17         Unknown          DCIS 1\n",
       "167778   st            1            17         Unknown          DCIS 1\n",
       "167779   st            1            17         Unknown          DCIS 1\n",
       "167780   st            1            17         Unknown          DCIS 1\n",
       "\n",
       "[166346 rows x 5 columns]"
      ]
     },
     "execution_count": 24,
     "metadata": {},
     "output_type": "execute_result"
    }
   ],
   "source": [
    "adata_st.obs"
   ]
  },
  {
   "cell_type": "code",
   "execution_count": 25,
   "id": "2e32303d",
   "metadata": {},
   "outputs": [],
   "source": [
    "# adata_st.X[1,0:20].toarray()\n",
    "# adata_st.layers[\"counts\"][1,0:20].toarray()\n",
    "# adata_st.obsm['spatial']"
   ]
  },
  {
   "cell_type": "code",
   "execution_count": 26,
   "id": "2c37c1ff",
   "metadata": {},
   "outputs": [],
   "source": [
    "n_spots = adata_st.n_obs\n",
    "n_samples = 10000\n",
    "random_indices = np.random.choice(n_spots, size=n_samples, replace=False)\n",
    "adata_st_subset = adata_st[random_indices]"
   ]
  },
  {
   "cell_type": "code",
   "execution_count": null,
   "id": "850dd750",
   "metadata": {},
   "outputs": [],
   "source": [
    "counts = pd.DataFrame(adata_st_subset.layers[\"counts\"].toarray().astype(int),index=adata_st_subset.obs.index,columns=adata_st_subset.var_names)\n",
    "counts.to_csv(os.path.join(save_path, \"rawdata\", method, \"counts.csv\"))"
   ]
  },
  {
   "cell_type": "code",
   "execution_count": 28,
   "id": "eb547686",
   "metadata": {},
   "outputs": [
    {
     "data": {
      "text/plain": [
       "ArrayView([[1682.,  106.],\n",
       "           [4447.,  153.],\n",
       "           [1454.,  364.],\n",
       "           ...,\n",
       "           [  35., 1855.],\n",
       "           [ 783.,  173.],\n",
       "           [2983., 5174.]])"
      ]
     },
     "execution_count": 28,
     "metadata": {},
     "output_type": "execute_result"
    }
   ],
   "source": [
    "adata_st_subset.obsm['spatial']"
   ]
  },
  {
   "cell_type": "code",
   "execution_count": 29,
   "id": "bdf7eba8",
   "metadata": {},
   "outputs": [],
   "source": [
    "coordinates = pd.DataFrame(adata_st_subset.obsm['spatial'].toarray(),index=adata_st_subset.obs.index, columns=[\"x\",\"y\"])\n",
    "coordinates.to_csv(os.path.join(save_path, \"rawdata\", method, \"coordinates.csv\"))"
   ]
  },
  {
   "cell_type": "code",
   "execution_count": 30,
   "id": "bc9eb9f8",
   "metadata": {},
   "outputs": [],
   "source": [
    "scvi_label = pd.DataFrame(adata_st_subset.obs[\"C_scANVI\"],index=adata_st_subset.obs.index)\n",
    "scvi_label.columns = [\"celltype\"]\n",
    "scvi_label.to_csv(os.path.join(save_path, \"rawdata\", method, \"scvi_label.csv\"))"
   ]
  },
  {
   "cell_type": "code",
   "execution_count": null,
   "id": "1e318ce4",
   "metadata": {},
   "outputs": [],
   "source": []
  }
 ],
 "metadata": {
  "kernelspec": {
   "display_name": "pql",
   "language": "python",
   "name": "python3"
  },
  "language_info": {
   "codemirror_mode": {
    "name": "ipython",
    "version": 3
   },
   "file_extension": ".py",
   "mimetype": "text/x-python",
   "name": "python",
   "nbconvert_exporter": "python",
   "pygments_lexer": "ipython3",
   "version": "3.11.6"
  }
 },
 "nbformat": 4,
 "nbformat_minor": 5
}
