{
 "cells": [
  {
   "cell_type": "code",
   "execution_count": 1,
   "id": "833e8ca8-b82a-46ca-9df1-3c7c0723dad8",
   "metadata": {
    "vscode": {
     "languageId": "r"
    }
   },
   "outputs": [
    {
     "data": {
      "text/html": [
       "'/import/home/share/zw/pql'"
      ],
      "text/latex": [
       "'/import/home/share/zw/pql'"
      ],
      "text/markdown": [
       "'/import/home/share/zw/pql'"
      ],
      "text/plain": [
       "[1] \"/import/home/share/zw/pql\""
      ]
     },
     "metadata": {},
     "output_type": "display_data"
    },
    {
     "name": "stderr",
     "output_type": "stream",
     "text": [
      "Loading required package: foreach\n",
      "\n",
      "Loading required package: iterators\n",
      "\n",
      "Loading required package: parallel\n",
      "\n",
      "Warning message:\n",
      "“package ‘ggplot2’ was built under R version 4.3.3”\n",
      "\n",
      "Attaching package: ‘qqplotr’\n",
      "\n",
      "\n",
      "The following objects are masked from ‘package:ggplot2’:\n",
      "\n",
      "    stat_qq_line, StatQqLine\n",
      "\n",
      "\n"
     ]
    }
   ],
   "source": [
    "setwd(\"/import/home/share/zw/pql\")\n",
    "getwd()\n",
    "\n",
    "set.seed(20231124)\n",
    "\n",
    "library(RhpcBLASctl)\n",
    "max_cores <- 36\n",
    "blas_set_num_threads(max_cores)\n",
    "\n",
    "library(doParallel)\n",
    "library(foreach)\n",
    "\n",
    "# library(SPARK)\n",
    "library(Matrix)\n",
    "# library(Seurat)\n",
    "\n",
    "library(ggplot2)\n",
    "library(qqplotr)\n",
    "\n",
    "library(spacexr)\n",
    "library(nicheDE)"
   ]
  },
  {
   "cell_type": "code",
   "execution_count": 2,
   "id": "5d6d6848",
   "metadata": {
    "vscode": {
     "languageId": "r"
    }
   },
   "outputs": [],
   "source": [
    "source(\"/import/home/share/zw/pql/code/mcube/mcubeClass.R\")\n",
    "source(\"/import/home/share/zw/pql/code/mcube/mcubeFitNull.R\")\n",
    "source(\"/import/home/share/zw/pql/code/mcube/mcubeScoreTest.R\")\n",
    "source(\"/import/home/share/zw/pql/code/mcube/mcubeUtils.R\")\n",
    "source(\"/import/home/share/zw/pql/code/mcube/mcubeKernel.R\")"
   ]
  },
  {
   "cell_type": "code",
   "execution_count": 3,
   "id": "82892b33",
   "metadata": {
    "vscode": {
     "languageId": "r"
    }
   },
   "outputs": [],
   "source": [
    "DATA_PATH <- \"/import/home/share/zw/pql/data/breast_cancer\"\n",
    "RESULT_PATH <- \"/import/home/share/zw/pql/results/breast_cancer\"\n",
    "\n",
    "if (!dir.exists(DATA_PATH)) {\n",
    "    dir.create(DATA_PATH)\n",
    "}\n",
    "if (!dir.exists(RESULT_PATH)) {\n",
    "    dir.create(RESULT_PATH)\n",
    "}"
   ]
  },
  {
   "cell_type": "code",
   "execution_count": 4,
   "id": "88519dcf",
   "metadata": {
    "vscode": {
     "languageId": "r"
    }
   },
   "outputs": [],
   "source": [
    "seg_method <- \"UCS_10X\"\n",
    "myRCTD <- readRDS(file.path(RESULT_PATH, seg_method, \"myRCTD.rds\"))"
   ]
  },
  {
   "cell_type": "markdown",
   "id": "dfa81fd9",
   "metadata": {},
   "source": [
    "## NicheDE"
   ]
  },
  {
   "cell_type": "code",
   "execution_count": 6,
   "id": "1b2566fb",
   "metadata": {
    "vscode": {
     "languageId": "r"
    }
   },
   "outputs": [
    {
     "name": "stdout",
     "output_type": "stream",
     "text": [
      "[1] \"Computing average expression profile matrix\"\n",
      "[1] \"Too many cell of type Stromal downsampling to 1000.\"\n",
      "[1] \"Too many cell of type Macrophages 1 downsampling to 1000.\"\n",
      "[1] \"Too many cell of type Myoepi ACTA2+ downsampling to 1000.\"\n",
      "[1] \"Too many cell of type CD4+ T Cells downsampling to 1000.\"\n",
      "[1] \"Too many cell of type DCIS 1 downsampling to 1000.\"\n",
      "[1] \"Too many cell of type Prolif Invasive Tumor downsampling to 1000.\"\n",
      "[1] \"Too many cell of type Invasive Tumor downsampling to 1000.\"\n",
      "[1] \"Too many cell of type CD8+ T Cells downsampling to 1000.\"\n",
      "[1] \"Too many cell of type Endothelial downsampling to 1000.\"\n",
      "[1] \"Too many cell of type DCIS 2 downsampling to 1000.\"\n",
      "[1] \"Too many cell of type B Cells downsampling to 1000.\"\n",
      "[1] \"Average expression matrix computed\"\n"
     ]
    }
   ],
   "source": [
    "# read in data\n",
    "# create library matrix\n",
    "librarymatrix <- CreateLibraryMatrix(\n",
    "    t(myRCTD@reference@counts),\n",
    "    cbind(\n",
    "        colnames(myRCTD@reference@counts),\n",
    "        as.character(myRCTD@reference@cell_types)\n",
    "    )\n",
    ")"
   ]
  },
  {
   "cell_type": "code",
   "execution_count": 7,
   "id": "d94aa4c8",
   "metadata": {
    "vscode": {
     "languageId": "r"
    }
   },
   "outputs": [
    {
     "name": "stdout",
     "output_type": "stream",
     "text": [
      "[1] \"Creating Niche-DE object\"\n",
      "[1] \"Niche-DE object created with 8593 observations, 286 genes, 1 batch(es), and 17 cell types.\"\n"
     ]
    }
   ],
   "source": [
    "weights_RCTD <- t(sapply(myRCTD@results, function(x) x$all_weights))\n",
    "rownames(weights_RCTD) <- colnames(myRCTD@spatialRNA@counts)\n",
    "NDE_obj <- CreateNicheDEObject(\n",
    "    t(myRCTD@spatialRNA@counts), myRCTD@spatialRNA@coords,\n",
    "    librarymatrix, weights_RCTD / rowSums(weights_RCTD),\n",
    "    sigma = c(1, 200, 250)\n",
    ")"
   ]
  },
  {
   "cell_type": "code",
   "execution_count": 8,
   "id": "15521f6a",
   "metadata": {
    "vscode": {
     "languageId": "r"
    }
   },
   "outputs": [
    {
     "name": "stdout",
     "output_type": "stream",
     "text": [
      "[1] \"Calculating effective niche for kernel bandwith 1(1 out of 3 values).\"\n",
      "[1] \"Calculating effective niche for kernel bandwith 200(2 out of 3 values).\"\n",
      "[1] \"Calculating effective niche for kernel bandwith 250(3 out of 3 values).\"\n",
      "[1] \"Effective niche calculated\"\n"
     ]
    }
   ],
   "source": [
    "NDE_obj <- CalculateEffectiveNiche(NDE_obj)"
   ]
  },
  {
   "cell_type": "code",
   "execution_count": 9,
   "id": "5cca2b76",
   "metadata": {
    "vscode": {
     "languageId": "r"
    }
   },
   "outputs": [
    {
     "name": "stdout",
     "output_type": "stream",
     "text": [
      "[1] \"Starting Niche-DE analysis with parameters C = 150, M = 10, gamma = 0.8.\"\n",
      "[1] \"Performing Niche-DE analysis with kernel bandwidth:1 (number 1 out of 3 values)\"\n",
      "[1] \"Running Niche-DE in parallel\"\n",
      "[1] \"Splitting Data into 1 chunks in order to avoid memory overload. Each chunk is less than 1 gigabytes.\"\n",
      "[1] \"Initializing cluster\"\n",
      "[1] \"Evaluating chunk 1 out of 1\"\n"
     ]
    },
    {
     "name": "stderr",
     "output_type": "stream",
     "text": [
      "Warning message in e$fun(obj, substitute(ex), parent.frame(), e$data):\n",
      "“already exporting variable(s): constant_param, niche_DE_core, counts_chunk”\n"
     ]
    },
    {
     "name": "stdout",
     "output_type": "stream",
     "text": [
      "[1] \"Closing cluster\"\n",
      "[1] \"Cleaning disk for next iteration\"\n",
      "[1] \"Performing Niche-DE analysis with kernel bandwidth:200 (number 2 out of 3 values)\"\n",
      "[1] \"Running Niche-DE in parallel\"\n",
      "[1] \"Splitting Data into 1 chunks in order to avoid memory overload. Each chunk is less than 1 gigabytes.\"\n",
      "[1] \"Initializing cluster\"\n",
      "[1] \"Evaluating chunk 1 out of 1\"\n"
     ]
    },
    {
     "name": "stderr",
     "output_type": "stream",
     "text": [
      "Warning message in e$fun(obj, substitute(ex), parent.frame(), e$data):\n",
      "“already exporting variable(s): constant_param, niche_DE_core, counts_chunk”\n"
     ]
    },
    {
     "name": "stdout",
     "output_type": "stream",
     "text": [
      "[1] \"Closing cluster\"\n",
      "[1] \"Cleaning disk for next iteration\"\n",
      "[1] \"Performing Niche-DE analysis with kernel bandwidth:250 (number 3 out of 3 values)\"\n",
      "[1] \"Running Niche-DE in parallel\"\n",
      "[1] \"Splitting Data into 1 chunks in order to avoid memory overload. Each chunk is less than 1 gigabytes.\"\n",
      "[1] \"Initializing cluster\"\n",
      "[1] \"Evaluating chunk 1 out of 1\"\n"
     ]
    },
    {
     "name": "stderr",
     "output_type": "stream",
     "text": [
      "Warning message in e$fun(obj, substitute(ex), parent.frame(), e$data):\n",
      "“already exporting variable(s): constant_param, niche_DE_core, counts_chunk”\n"
     ]
    },
    {
     "name": "stdout",
     "output_type": "stream",
     "text": [
      "[1] \"Closing cluster\"\n",
      "[1] \"Cleaning disk for next iteration\"\n",
      "[1] \"Computing Positive Niche-DE Pvalues\"\n",
      "[1] \"Computing Gene Level Pvalues\"\n",
      "[1] \"Combining Gene Level Pvalues Across Kernel Bandwidths\"\n",
      "[1] \"Computing Cell Type Level Pvalues\"\n",
      "[1] \"Combining Cell Type  Level Pvalues Across Kernel Bandwidths\"\n",
      "[1] \"Computing and Combining interaction Level Pvalues Across Kernel bandwidths\"\n",
      "[1] \"Computing Negative Niche-DE Pvalues\"\n",
      "[1] \"Computing Gene Level Pvalues\"\n",
      "[1] \"Combining Gene Level Pvalues Across Kernel Bandwidths\"\n",
      "[1] \"Computing Cell Type Level Pvalues\"\n",
      "[1] \"Combining Cell Type  Level Pvalues Across Kernel Bandwidths\"\n",
      "[1] \"Computing and Combining interaction Level Pvalues Across Kernel bandwidths\"\n",
      "[1] \"Niche-DE analysis complete. Number of Genes with niche-DE T-stat equal to 215\"\n"
     ]
    },
    {
     "name": "stderr",
     "output_type": "stream",
     "text": [
      "Warning message in niche_DE(NDE_obj, num_cores = 36, outfile = \"\"):\n",
      "“Less than 1000 genes pass. This could be due to insufficient read depth of data or size of C parameter. Consider changing choice of C parameter”\n"
     ]
    }
   ],
   "source": [
    "NDE_obj <- niche_DE(NDE_obj, num_cores = 36, outfile = \"\")"
   ]
  },
  {
   "cell_type": "code",
   "execution_count": null,
   "id": "26800f0e",
   "metadata": {
    "vscode": {
     "languageId": "r"
    }
   },
   "outputs": [],
   "source": [
    "saveRDS(\n",
    "    object = NDE_obj,\n",
    "    file = file.path(\n",
    "        RESULT_PATH, seg_method,\n",
    "        paste0(\n",
    "            \"NDE_obj\",\n",
    "            \".rds\"\n",
    "        )\n",
    "    )\n",
    ")"
   ]
  },
  {
   "cell_type": "code",
   "execution_count": 6,
   "id": "e349bf2b",
   "metadata": {
    "vscode": {
     "languageId": "r"
    }
   },
   "outputs": [
    {
     "name": "stdout",
     "output_type": "stream",
     "text": [
      "[1] \"Returning Niche-DE Genes\"\n"
     ]
    },
    {
     "data": {
      "text/html": [
       "<table class=\"dataframe\">\n",
       "<caption>A data.frame: 1 × 2</caption>\n",
       "<thead>\n",
       "\t<tr><th></th><th scope=col>Genes</th><th scope=col>Pvalues.Interaction</th></tr>\n",
       "\t<tr><th></th><th scope=col>&lt;chr&gt;</th><th scope=col>&lt;dbl&gt;</th></tr>\n",
       "</thead>\n",
       "<tbody>\n",
       "\t<tr><th scope=row>1</th><td>CEACAM6</td><td>2.937126e-06</td></tr>\n",
       "</tbody>\n",
       "</table>\n"
      ],
      "text/latex": [
       "A data.frame: 1 × 2\n",
       "\\begin{tabular}{r|ll}\n",
       "  & Genes & Pvalues.Interaction\\\\\n",
       "  & <chr> & <dbl>\\\\\n",
       "\\hline\n",
       "\t1 & CEACAM6 & 2.937126e-06\\\\\n",
       "\\end{tabular}\n"
      ],
      "text/markdown": [
       "\n",
       "A data.frame: 1 × 2\n",
       "\n",
       "| <!--/--> | Genes &lt;chr&gt; | Pvalues.Interaction &lt;dbl&gt; |\n",
       "|---|---|---|\n",
       "| 1 | CEACAM6 | 2.937126e-06 |\n",
       "\n"
      ],
      "text/plain": [
       "  Genes   Pvalues.Interaction\n",
       "1 CEACAM6 2.937126e-06       "
      ]
     },
     "metadata": {},
     "output_type": "display_data"
    }
   ],
   "source": [
    "get_niche_DE_genes(NDE_obj, 'I', index='DCIS 1', niche = 'Invasive Tumor', pos = TRUE, alpha = 0.05)"
   ]
  },
  {
   "cell_type": "code",
   "execution_count": 8,
   "id": "90dfd92a",
   "metadata": {
    "vscode": {
     "languageId": "r"
    }
   },
   "outputs": [
    {
     "name": "stdout",
     "output_type": "stream",
     "text": [
      "[1] \"Returning Niche-DE Genes\"\n"
     ]
    },
    {
     "data": {
      "text/html": [
       "<table class=\"dataframe\">\n",
       "<caption>A data.frame: 2 × 2</caption>\n",
       "<thead>\n",
       "\t<tr><th></th><th scope=col>Genes</th><th scope=col>Pvalues.Interaction</th></tr>\n",
       "\t<tr><th></th><th scope=col>&lt;chr&gt;</th><th scope=col>&lt;dbl&gt;</th></tr>\n",
       "</thead>\n",
       "<tbody>\n",
       "\t<tr><th scope=row>1</th><td>AGR3</td><td>0.00295327</td></tr>\n",
       "\t<tr><th scope=row>2</th><td>ESR1</td><td>0.02209103</td></tr>\n",
       "</tbody>\n",
       "</table>\n"
      ],
      "text/latex": [
       "A data.frame: 2 × 2\n",
       "\\begin{tabular}{r|ll}\n",
       "  & Genes & Pvalues.Interaction\\\\\n",
       "  & <chr> & <dbl>\\\\\n",
       "\\hline\n",
       "\t1 & AGR3 & 0.00295327\\\\\n",
       "\t2 & ESR1 & 0.02209103\\\\\n",
       "\\end{tabular}\n"
      ],
      "text/markdown": [
       "\n",
       "A data.frame: 2 × 2\n",
       "\n",
       "| <!--/--> | Genes &lt;chr&gt; | Pvalues.Interaction &lt;dbl&gt; |\n",
       "|---|---|---|\n",
       "| 1 | AGR3 | 0.00295327 |\n",
       "| 2 | ESR1 | 0.02209103 |\n",
       "\n"
      ],
      "text/plain": [
       "  Genes Pvalues.Interaction\n",
       "1 AGR3  0.00295327         \n",
       "2 ESR1  0.02209103         "
      ]
     },
     "metadata": {},
     "output_type": "display_data"
    }
   ],
   "source": [
    "get_niche_DE_genes(NDE_obj, 'I', index='DCIS 2', niche = 'Invasive Tumor', pos = TRUE, alpha = 0.05)"
   ]
  },
  {
   "cell_type": "code",
   "execution_count": 16,
   "id": "fed6cf00",
   "metadata": {
    "vscode": {
     "languageId": "r"
    }
   },
   "outputs": [
    {
     "name": "stdout",
     "output_type": "stream",
     "text": [
      "[1] \"Returning Niche-DE Genes\"\n"
     ]
    },
    {
     "data": {
      "text/html": [
       "<table class=\"dataframe\">\n",
       "<caption>A data.frame: 2 × 2</caption>\n",
       "<thead>\n",
       "\t<tr><th></th><th scope=col>Genes</th><th scope=col>Pvalues.Interaction</th></tr>\n",
       "\t<tr><th></th><th scope=col>&lt;chr&gt;</th><th scope=col>&lt;dbl&gt;</th></tr>\n",
       "</thead>\n",
       "<tbody>\n",
       "\t<tr><th scope=row>2</th><td>CEACAM6 </td><td>0.0007184365</td></tr>\n",
       "\t<tr><th scope=row>1</th><td>SERPINA3</td><td>0.0185501484</td></tr>\n",
       "</tbody>\n",
       "</table>\n"
      ],
      "text/latex": [
       "A data.frame: 2 × 2\n",
       "\\begin{tabular}{r|ll}\n",
       "  & Genes & Pvalues.Interaction\\\\\n",
       "  & <chr> & <dbl>\\\\\n",
       "\\hline\n",
       "\t2 & CEACAM6  & 0.0007184365\\\\\n",
       "\t1 & SERPINA3 & 0.0185501484\\\\\n",
       "\\end{tabular}\n"
      ],
      "text/markdown": [
       "\n",
       "A data.frame: 2 × 2\n",
       "\n",
       "| <!--/--> | Genes &lt;chr&gt; | Pvalues.Interaction &lt;dbl&gt; |\n",
       "|---|---|---|\n",
       "| 2 | CEACAM6  | 0.0007184365 |\n",
       "| 1 | SERPINA3 | 0.0185501484 |\n",
       "\n"
      ],
      "text/plain": [
       "  Genes    Pvalues.Interaction\n",
       "2 CEACAM6  0.0007184365       \n",
       "1 SERPINA3 0.0185501484       "
      ]
     },
     "metadata": {},
     "output_type": "display_data"
    }
   ],
   "source": [
    "get_niche_DE_genes(NDE_obj, 'I', index='DCIS 2', niche = 'Invasive Tumor', pos = FALSE, alpha = 0.05)"
   ]
  },
  {
   "cell_type": "markdown",
   "id": "a84bcac0",
   "metadata": {},
   "source": [
    "## Compare with MCube genes"
   ]
  },
  {
   "cell_type": "code",
   "execution_count": 10,
   "id": "644b903b",
   "metadata": {
    "vscode": {
     "languageId": "r"
    }
   },
   "outputs": [
    {
     "name": "stderr",
     "output_type": "stream",
     "text": [
      "mcubeGetSigGenes: Set adjust_method as BH and alpha as 0.05.\n",
      "\n"
     ]
    }
   ],
   "source": [
    "source(\"/import/home/share/zw/pql/code/mcube/mcubeClass.R\")\n",
    "source(\"/import/home/share/zw/pql/code/mcube/mcubeFitNull.R\")\n",
    "source(\"/import/home/share/zw/pql/code/mcube/mcubeScoreTest.R\")\n",
    "source(\"/import/home/share/zw/pql/code/mcube/mcubeUtils.R\")\n",
    "source(\"/import/home/share/zw/pql/code/mcube/mcubeKernel.R\")\n",
    "mcube_object <- readRDS(\n",
    "    file = file.path(\n",
    "        RESULT_PATH, seg_method,\n",
    "        paste0(\n",
    "            \"mcube_object\",\n",
    "            \".rds\"\n",
    "        )\n",
    "    )\n",
    ")\n",
    "method = \"BH\"\n",
    "sig_genes_list <- mcubeGetSigGenes(mcube_object@pvalues, adjust_method = method)"
   ]
  },
  {
   "cell_type": "code",
   "execution_count": 17,
   "id": "ef8c893b",
   "metadata": {
    "vscode": {
     "languageId": "r"
    }
   },
   "outputs": [
    {
     "name": "stdout",
     "output_type": "stream",
     "text": [
      "[1] \"Returning Niche-DE Genes\"\n",
      "[1] \"Returning Niche-DE Genes\"\n"
     ]
    }
   ],
   "source": [
    "# According to NicheDE tutorial, the niche cell type is unknown when the resoluation is \"CT\" (cell type).\n",
    "niche_genes_T <- get_niche_DE_genes(NDE_obj, \"CT\", index = \"DCIS 2\", niche = \"Invasive Tumor\", pos = TRUE, alpha = 0.05)$Genes\n",
    "niche_genes_F <- get_niche_DE_genes(NDE_obj, \"CT\", index = \"DCIS 2\", niche = \"Invasive Tumor\", pos = FALSE, alpha = 0.05)$Genes"
   ]
  },
  {
   "cell_type": "code",
   "execution_count": 18,
   "id": "60f95703",
   "metadata": {
    "vscode": {
     "languageId": "r"
    }
   },
   "outputs": [
    {
     "data": {
      "text/html": [
       "<style>\n",
       ".list-inline {list-style: none; margin:0; padding: 0}\n",
       ".list-inline>li {display: inline-block}\n",
       ".list-inline>li:not(:last-child)::after {content: \"\\00b7\"; padding: 0 .5ex}\n",
       "</style>\n",
       "<ol class=list-inline><li>'LYZ'</li><li>'AGR3'</li><li>'ESR1'</li><li>'KRT7'</li><li>'GATA3'</li><li>'RHOH'</li><li>'MKI67'</li><li>'LYPD3'</li><li>'BASP1'</li></ol>\n"
      ],
      "text/latex": [
       "\\begin{enumerate*}\n",
       "\\item 'LYZ'\n",
       "\\item 'AGR3'\n",
       "\\item 'ESR1'\n",
       "\\item 'KRT7'\n",
       "\\item 'GATA3'\n",
       "\\item 'RHOH'\n",
       "\\item 'MKI67'\n",
       "\\item 'LYPD3'\n",
       "\\item 'BASP1'\n",
       "\\end{enumerate*}\n"
      ],
      "text/markdown": [
       "1. 'LYZ'\n",
       "2. 'AGR3'\n",
       "3. 'ESR1'\n",
       "4. 'KRT7'\n",
       "5. 'GATA3'\n",
       "6. 'RHOH'\n",
       "7. 'MKI67'\n",
       "8. 'LYPD3'\n",
       "9. 'BASP1'\n",
       "\n",
       "\n"
      ],
      "text/plain": [
       "[1] \"LYZ\"   \"AGR3\"  \"ESR1\"  \"KRT7\"  \"GATA3\" \"RHOH\"  \"MKI67\" \"LYPD3\" \"BASP1\""
      ]
     },
     "metadata": {},
     "output_type": "display_data"
    },
    {
     "data": {
      "text/html": [
       "<style>\n",
       ".list-inline {list-style: none; margin:0; padding: 0}\n",
       ".list-inline>li {display: inline-block}\n",
       ".list-inline>li:not(:last-child)::after {content: \"\\00b7\"; padding: 0 .5ex}\n",
       "</style>\n",
       "<ol class=list-inline><li>'SCD'</li><li>'TENT5C'</li><li>'BACE2'</li><li>'LYZ'</li><li>'TACSTD2'</li><li>'FOXA1'</li><li>'GATA3'</li><li>'SERPINA3'</li><li>'BASP1'</li><li>'EPCAM'</li><li>'ESR1'</li><li>'CEACAM6'</li><li>'AGR3'</li><li>'MLPH'</li><li>'MYO5B'</li><li>'ANKRD30A'</li><li>'KRT7'</li><li>'ERBB2'</li><li>'LYPD3'</li><li>'TPD52'</li><li>'CTTN'</li><li>'KRT8'</li><li>'CDH1'</li><li>'DSP'</li><li>'RUNX1'</li><li>'CLDN4'</li><li>'FLNB'</li></ol>\n"
      ],
      "text/latex": [
       "\\begin{enumerate*}\n",
       "\\item 'SCD'\n",
       "\\item 'TENT5C'\n",
       "\\item 'BACE2'\n",
       "\\item 'LYZ'\n",
       "\\item 'TACSTD2'\n",
       "\\item 'FOXA1'\n",
       "\\item 'GATA3'\n",
       "\\item 'SERPINA3'\n",
       "\\item 'BASP1'\n",
       "\\item 'EPCAM'\n",
       "\\item 'ESR1'\n",
       "\\item 'CEACAM6'\n",
       "\\item 'AGR3'\n",
       "\\item 'MLPH'\n",
       "\\item 'MYO5B'\n",
       "\\item 'ANKRD30A'\n",
       "\\item 'KRT7'\n",
       "\\item 'ERBB2'\n",
       "\\item 'LYPD3'\n",
       "\\item 'TPD52'\n",
       "\\item 'CTTN'\n",
       "\\item 'KRT8'\n",
       "\\item 'CDH1'\n",
       "\\item 'DSP'\n",
       "\\item 'RUNX1'\n",
       "\\item 'CLDN4'\n",
       "\\item 'FLNB'\n",
       "\\end{enumerate*}\n"
      ],
      "text/markdown": [
       "1. 'SCD'\n",
       "2. 'TENT5C'\n",
       "3. 'BACE2'\n",
       "4. 'LYZ'\n",
       "5. 'TACSTD2'\n",
       "6. 'FOXA1'\n",
       "7. 'GATA3'\n",
       "8. 'SERPINA3'\n",
       "9. 'BASP1'\n",
       "10. 'EPCAM'\n",
       "11. 'ESR1'\n",
       "12. 'CEACAM6'\n",
       "13. 'AGR3'\n",
       "14. 'MLPH'\n",
       "15. 'MYO5B'\n",
       "16. 'ANKRD30A'\n",
       "17. 'KRT7'\n",
       "18. 'ERBB2'\n",
       "19. 'LYPD3'\n",
       "20. 'TPD52'\n",
       "21. 'CTTN'\n",
       "22. 'KRT8'\n",
       "23. 'CDH1'\n",
       "24. 'DSP'\n",
       "25. 'RUNX1'\n",
       "26. 'CLDN4'\n",
       "27. 'FLNB'\n",
       "\n",
       "\n"
      ],
      "text/plain": [
       " [1] \"SCD\"      \"TENT5C\"   \"BACE2\"    \"LYZ\"      \"TACSTD2\"  \"FOXA1\"   \n",
       " [7] \"GATA3\"    \"SERPINA3\" \"BASP1\"    \"EPCAM\"    \"ESR1\"     \"CEACAM6\" \n",
       "[13] \"AGR3\"     \"MLPH\"     \"MYO5B\"    \"ANKRD30A\" \"KRT7\"     \"ERBB2\"   \n",
       "[19] \"LYPD3\"    \"TPD52\"    \"CTTN\"     \"KRT8\"     \"CDH1\"     \"DSP\"     \n",
       "[25] \"RUNX1\"    \"CLDN4\"    \"FLNB\"    "
      ]
     },
     "metadata": {},
     "output_type": "display_data"
    }
   ],
   "source": [
    "niche_genes_T\n",
    "niche_genes_F"
   ]
  },
  {
   "cell_type": "code",
   "execution_count": 24,
   "id": "e8eb78ba",
   "metadata": {
    "vscode": {
     "languageId": "r"
    }
   },
   "outputs": [
    {
     "data": {
      "image/png": "[encoded data removed]",
      "text/plain": [
       "plot without title"
      ]
     },
     "metadata": {
      "image/png": {
       "height": 420,
       "width": 420
      }
     },
     "output_type": "display_data"
    }
   ],
   "source": [
    "library(ggVennDiagram)\n",
    "celltype <- 'DCIS 2'\n",
    "svg_list <- list(niche_genes_T, niche_genes_F, rownames(sig_genes_list[[celltype]]))\n",
    "name_list <- c(\n",
    "    \"Niche-DE positive genes\", \"Niche-DE-negative genes\",\n",
    "    paste0(celltype, \" cell-type-specific SVGs\")\n",
    ")\n",
    "p <- ggVennDiagram(svg_list, name_list, set_size = 8, label_size = 7, label_alpha = 0) +\n",
    "    scale_fill_gradient(low = \"white\", high = \"dodgerblue3\") +\n",
    "    # scale_fill_distiller(palette = \"RdBu\") +\n",
    "    theme(\n",
    "        text = element_text(size = 32),\n",
    "        title = element_text(size = 24),\n",
    "        legend.position = \"none\"\n",
    "    )\n",
    "ggsave(\n",
    "    filename = file.path(RESULT_PATH, seg_method, \"niche_DE_genes_venn.pdf\"),\n",
    "    plot = p, width = 10, height = 6\n",
    ")\n",
    "p\n"
   ]
  },
  {
   "cell_type": "code",
   "execution_count": null,
   "id": "27dc4042",
   "metadata": {
    "vscode": {
     "languageId": "r"
    }
   },
   "outputs": [],
   "source": []
  }
 ],
 "metadata": {
  "kernelspec": {
   "display_name": "R",
   "language": "R",
   "name": "ir"
  },
  "language_info": {
   "codemirror_mode": "r",
   "file_extension": ".r",
   "mimetype": "text/x-r-source",
   "name": "R",
   "pygments_lexer": "r",
   "version": "4.3.2"
  }
 },
 "nbformat": 4,
 "nbformat_minor": 5
}
