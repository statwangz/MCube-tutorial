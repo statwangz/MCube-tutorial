{
 "cells": [
  {
   "cell_type": "markdown",
   "metadata": {},
   "source": [
    "# Formatting the Visium data"
   ]
  },
  {
   "cell_type": "code",
   "execution_count": 1,
   "metadata": {
    "vscode": {
     "languageId": "r"
    }
   },
   "outputs": [
    {
     "name": "stderr",
     "output_type": "stream",
     "text": [
      "Loading required package: SeuratObject\n",
      "\n",
      "Loading required package: sp\n",
      "\n",
      "\n",
      "Attaching package: ‘SeuratObject’\n",
      "\n",
      "\n",
      "The following objects are masked from ‘package:base’:\n",
      "\n",
      "    intersect, t\n",
      "\n",
      "\n"
     ]
    }
   ],
   "source": [
    "library(Seurat)"
   ]
  },
  {
   "cell_type": "code",
   "execution_count": 2,
   "metadata": {
    "vscode": {
     "languageId": "r"
    }
   },
   "outputs": [],
   "source": [
    "RAW_DATA_PATH <- \"/import/home/share/zw/data/mouse_brain\""
   ]
  },
  {
   "cell_type": "code",
   "execution_count": 3,
   "metadata": {
    "vscode": {
     "languageId": "r"
    }
   },
   "outputs": [
    {
     "name": "stderr",
     "output_type": "stream",
     "text": [
      "Warning message in asMethod(object):\n",
      "“sparse->dense coercion: allocating vector of size 1.0 GiB”\n"
     ]
    }
   ],
   "source": [
    "# 10x Visium Slice 1\n",
    "visium_data <- readRDS(file.path(RAW_DATA_PATH, \"visium_1\", \"brain_visium_1.rds\"))\n",
    "counts <- visium_data@assays$RNA@counts\n",
    "counts <- t(as.matrix(counts))\n",
    "write.csv(counts, file = file.path(RAW_DATA_PATH, \"visium_1\", \"mouse_brain_visium_1_counts.csv\"))\n",
    "coordinates <-  Embeddings(visium_data, reduction = \"spatial\")\n",
    "write.csv(coordinates, file = file.path(RAW_DATA_PATH, \"visium_1\", \"mouse_brain_visium_1_coordinates.csv\"))"
   ]
  },
  {
   "cell_type": "code",
   "execution_count": 4,
   "metadata": {
    "vscode": {
     "languageId": "r"
    }
   },
   "outputs": [],
   "source": [
    "# 10x Visium Slice 2\n",
    "visium_data <- readRDS(file.path(RAW_DATA_PATH, \"visium_2\", \"brain_visium_2.rds\"))\n",
    "counts <- visium_data@assays$RNA@counts\n",
    "counts <- t(as.matrix(counts))\n",
    "write.csv(counts, file = file.path(RAW_DATA_PATH, \"visium_2\", \"mouse_brain_visium_2_counts.csv\"))\n",
    "coordinates <-  Embeddings(visium_data, reduction = \"spatial\")\n",
    "write.csv(coordinates, file = file.path(RAW_DATA_PATH, \"visium_2\", \"mouse_brain_visium_2_coordinates.csv\"))"
   ]
  },
  {
   "cell_type": "code",
   "execution_count": null,
   "metadata": {
    "vscode": {
     "languageId": "r"
    }
   },
   "outputs": [],
   "source": []
  }
 ],
 "metadata": {
  "kernelspec": {
   "display_name": "R",
   "language": "R",
   "name": "ir"
  },
  "language_info": {
   "codemirror_mode": "r",
   "file_extension": ".r",
   "mimetype": "text/x-r-source",
   "name": "R",
   "pygments_lexer": "r",
   "version": "4.3.2"
  }
 },
 "nbformat": 4,
 "nbformat_minor": 2
}
